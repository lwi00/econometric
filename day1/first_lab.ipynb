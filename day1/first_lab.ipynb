{
 "cells": [
  {
   "cell_type": "code",
   "execution_count": 6,
   "id": "c6bb04e8-a418-4887-b102-8c6105e8c4d5",
   "metadata": {
    "vscode": {
     "languageId": "r"
    }
   },
   "outputs": [],
   "source": [
    "x <- c(70,71,72,73,74,75)\n",
    "y <- c(80,81,82,83,84,85)"
   ]
  },
  {
   "cell_type": "code",
   "execution_count": null,
   "id": "0f29a3c0-0f9d-4d52-a19c-5f346b93e9ee",
   "metadata": {
    "vscode": {
     "languageId": "r"
    }
   },
   "outputs": [],
   "source": [
    "a <- mean(x)\n",
    "b <- mean(y)\n",
    "c <- var(x)\n",
    "d <- var(y) \n",
    "e <- sd(x)\n",
    "f <- sd(y)"
   ]
  },
  {
   "cell_type": "code",
   "execution_count": 9,
   "id": "d5d78c7b",
   "metadata": {
    "vscode": {
     "languageId": "r"
    }
   },
   "outputs": [
    {
     "name": "stdout",
     "output_type": "stream",
     "text": [
      "[1] -9.258201\n"
     ]
    }
   ],
   "source": [
    "\n",
    "n_x <- length(x)\n",
    "n_y <- length(y)\n",
    "t_stat <- (a - b) / sqrt((c / n_x) + (d / n_y))\n",
    "print(t_stat)"
   ]
  },
  {
   "cell_type": "code",
   "execution_count": 8,
   "id": "2683a2bc",
   "metadata": {
    "vscode": {
     "languageId": "r"
    }
   },
   "outputs": [
    {
     "name": "stdout",
     "output_type": "stream",
     "text": [
      "\n",
      "\tWelch Two Sample t-test\n",
      "\n",
      "data:  x and y\n",
      "t = -9.2582, df = 10, p-value = 3.207e-06\n",
      "alternative hypothesis: true difference in means is not equal to 0\n",
      "95 percent confidence interval:\n",
      " -12.406665  -7.593335\n",
      "sample estimates:\n",
      "mean of x mean of y \n",
      "     72.5      82.5 \n",
      "\n"
     ]
    }
   ],
   "source": [
    "resultat_ttest <- t.test(x, y)\n",
    "print(resultat_ttest)"
   ]
  },
  {
   "cell_type": "code",
   "execution_count": 10,
   "id": "d6a913d1",
   "metadata": {
    "vscode": {
     "languageId": "r"
    }
   },
   "outputs": [],
   "source": [
    "# Exemple de valeurs pour X et Y\n",
    "X <- c(1, 2, 3, 4, 5, 6, 7, 8, 9, 10)\n",
    "Y <- c(2, 4, 5, 4, 5, 7, 8, 9, 10, 12)"
   ]
  },
  {
   "cell_type": "markdown",
   "id": "ce0d8842",
   "metadata": {},
   "source": [
    "Supposons que tu as deux vecteurs :\n",
    "\n",
    "X (les valeurs indépendantes)\n",
    "Y (les valeurs dépendantes)\n",
    "La commande pour obtenir la pente (et l’ordonnée à l’origine) est :\n",
    "\n"
   ]
  },
  {
   "cell_type": "code",
   "execution_count": 11,
   "id": "efec694b",
   "metadata": {
    "vscode": {
     "languageId": "r"
    }
   },
   "outputs": [
    {
     "data": {
      "text/html": [
       "<style>\n",
       ".dl-inline {width: auto; margin:0; padding: 0}\n",
       ".dl-inline>dt, .dl-inline>dd {float: none; width: auto; display: inline-block}\n",
       ".dl-inline>dt::after {content: \":\\0020\"; padding-right: .5ex}\n",
       ".dl-inline>dt:not(:first-of-type) {padding-left: .5ex}\n",
       "</style><dl class=dl-inline><dt>(Intercept)</dt><dd>1.06666666666667</dd><dt>X</dt><dd>1.00606060606061</dd></dl>\n"
      ],
      "text/latex": [
       "\\begin{description*}\n",
       "\\item[(Intercept)] 1.06666666666667\n",
       "\\item[X] 1.00606060606061\n",
       "\\end{description*}\n"
      ],
      "text/markdown": [
       "(Intercept)\n",
       ":   1.06666666666667X\n",
       ":   1.00606060606061\n",
       "\n"
      ],
      "text/plain": [
       "(Intercept)           X \n",
       "   1.066667    1.006061 "
      ]
     },
     "metadata": {},
     "output_type": "display_data"
    }
   ],
   "source": [
    "modele <- lm(Y ~ X)\n",
    "coefficients(modele)"
   ]
  },
  {
   "cell_type": "code",
   "execution_count": 12,
   "id": "4d4b99b0",
   "metadata": {
    "vscode": {
     "languageId": "r"
    }
   },
   "outputs": [
    {
     "name": "stdout",
     "output_type": "stream",
     "text": [
      "       X \n",
      "1.006061 \n"
     ]
    },
    {
     "data": {
      "text/plain": [
       "\n",
       "Call:\n",
       "lm(formula = Y ~ X)\n",
       "\n",
       "Residuals:\n",
       "    Min      1Q  Median      3Q     Max \n",
       "-1.0970 -0.1197 -0.1061  0.6364  0.9212 \n",
       "\n",
       "Coefficients:\n",
       "            Estimate Std. Error t value Pr(>|t|)    \n",
       "(Intercept)  1.06667    0.53447   1.996    0.081 .  \n",
       "X            1.00606    0.08614  11.680 2.63e-06 ***\n",
       "---\n",
       "Signif. codes:  0 ‘***’ 0.001 ‘**’ 0.01 ‘*’ 0.05 ‘.’ 0.1 ‘ ’ 1\n",
       "\n",
       "Residual standard error: 0.7824 on 8 degrees of freedom\n",
       "Multiple R-squared:  0.9446,\tAdjusted R-squared:  0.9377 \n",
       "F-statistic: 136.4 on 1 and 8 DF,  p-value: 2.634e-06\n"
      ]
     },
     "metadata": {},
     "output_type": "display_data"
    }
   ],
   "source": [
    "# Pour afficher l'ensemble des infos sur le modele (pente, etc)\n",
    "pente <- coef(modele)[2]\n",
    "print(pente)\n",
    "summary(modele)"
   ]
  },
  {
   "cell_type": "code",
   "execution_count": null,
   "id": "8a72b791",
   "metadata": {
    "vscode": {
     "languageId": "r"
    }
   },
   "outputs": [
    {
     "name": "stdout",
     "output_type": "stream",
     "text": [
      "       fit      lwr      upr\n",
      "1 15.15152 13.36934 16.93369\n",
      "2 16.15758 14.18620 18.12895\n"
     ]
    }
   ],
   "source": [
    "# Prédire pour une nouvelle valeur de X\n",
    "predictions <- predict(modele, newdata = data.frame(X), interval = \"confidence\")\n",
    "print(predictions)"
   ]
  }
 ],
 "metadata": {
  "kernelspec": {
   "display_name": "R",
   "language": "R",
   "name": "ir"
  },
  "language_info": {
   "codemirror_mode": "r",
   "file_extension": ".r",
   "mimetype": "text/x-r-source",
   "name": "R",
   "pygments_lexer": "r",
   "version": "4.5.1"
  }
 },
 "nbformat": 4,
 "nbformat_minor": 5
}
