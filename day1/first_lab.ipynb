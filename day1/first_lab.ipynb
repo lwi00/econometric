{
 "cells": [
  {
   "cell_type": "code",
   "execution_count": 6,
   "id": "c6bb04e8-a418-4887-b102-8c6105e8c4d5",
   "metadata": {
    "vscode": {
     "languageId": "r"
    }
   },
   "outputs": [],
   "source": [
    "x <- c(70,71,72,73,74,75)\n",
    "y <- c(80,81,82,83,84,85)"
   ]
  },
  {
   "cell_type": "code",
   "execution_count": null,
   "id": "0f29a3c0-0f9d-4d52-a19c-5f346b93e9ee",
   "metadata": {
    "vscode": {
     "languageId": "r"
    }
   },
   "outputs": [],
   "source": [
    "a <- mean(x)\n",
    "b <- mean(y)\n",
    "c <- var(x)\n",
    "d <- var(y) \n",
    "e <- sd(x)\n",
    "f <- sd(y)"
   ]
  },
  {
   "cell_type": "code",
   "execution_count": 9,
   "id": "d5d78c7b",
   "metadata": {
    "vscode": {
     "languageId": "r"
    }
   },
   "outputs": [
    {
     "name": "stdout",
     "output_type": "stream",
     "text": [
      "[1] -9.258201\n"
     ]
    }
   ],
   "source": [
    "\n",
    "n_x <- length(x)\n",
    "n_y <- length(y)\n",
    "t_stat <- (a - b) / sqrt((c / n_x) + (d / n_y))\n",
    "print(t_stat)"
   ]
  },
  {
   "cell_type": "code",
   "execution_count": 8,
   "id": "2683a2bc",
   "metadata": {
    "vscode": {
     "languageId": "r"
    }
   },
   "outputs": [
    {
     "name": "stdout",
     "output_type": "stream",
     "text": [
      "\n",
      "\tWelch Two Sample t-test\n",
      "\n",
      "data:  x and y\n",
      "t = -9.2582, df = 10, p-value = 3.207e-06\n",
      "alternative hypothesis: true difference in means is not equal to 0\n",
      "95 percent confidence interval:\n",
      " -12.406665  -7.593335\n",
      "sample estimates:\n",
      "mean of x mean of y \n",
      "     72.5      82.5 \n",
      "\n"
     ]
    }
   ],
   "source": [
    "resultat_ttest <- t.test(x, y)\n",
    "print(resultat_ttest)"
   ]
  }
 ],
 "metadata": {
  "kernelspec": {
   "display_name": "R",
   "language": "R",
   "name": "ir"
  },
  "language_info": {
   "codemirror_mode": "r",
   "file_extension": ".r",
   "mimetype": "text/x-r-source",
   "name": "R",
   "pygments_lexer": "r",
   "version": "4.5.1"
  }
 },
 "nbformat": 4,
 "nbformat_minor": 5
}
