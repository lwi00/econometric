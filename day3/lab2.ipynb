{
 "cells": [
  {
   "cell_type": "code",
   "execution_count": 1,
   "id": "a4c3c40e",
   "metadata": {
    "vscode": {
     "languageId": "r"
    }
   },
   "outputs": [],
   "source": [
    "# Load the data.table library\n",
    "library(data.table)\n",
    "\n",
    "# Read the CitiBike trip data for September 2018\n",
    "df <- fread(\"2018-citibike-tripdata/9_September/201809-citibike-tripdata_1.csv\")\n",
    "\n",
    "df=data.table(df)"
   ]
  },
  {
   "cell_type": "code",
   "execution_count": null,
   "id": "2ed6aca0",
   "metadata": {
    "vscode": {
     "languageId": "r"
    }
   },
   "outputs": [
    {
     "name": "stdout",
     "output_type": "stream",
     "text": [
      "question 1 :\n",
      "   start station id\n",
      "              <num>\n",
      "1:              252\n",
      "question 2 :\n",
      "                start station name\n",
      "                            <char>\n",
      "1:    MacDougal St & Washington Sq\n",
      "2: Cadman Plaza West & Montague St\n",
      "3:                 1 Ave & E 62 St\n",
      "4:         St James Pl & Oliver St\n",
      "5:                 W 13 St & 6 Ave\n",
      "question 3 :\n",
      "         end station latitude end station longitude\n",
      "                        <num>                 <num>\n",
      "      1:             40.69326             -73.96890\n",
      "      2:             40.69103             -73.99183\n",
      "      3:             40.67872             -73.99599\n",
      "      4:             40.71334             -74.00936\n",
      "      5:             40.73401             -74.00294\n",
      "     ---                                           \n",
      " 999996:             40.76818             -73.95910\n",
      " 999997:             40.74239             -73.99726\n",
      " 999998:             40.74475             -73.99915\n",
      " 999999:             40.74312             -73.98215\n",
      "1000000:             40.72020             -73.98998\n",
      "question 4 :\n",
      "        birth year gender\n",
      "             <int>  <int>\n",
      "     1:       1984      2\n",
      "     2:       1977      2\n",
      "     3:       1974      2\n",
      "     4:       1985      2\n",
      "     5:       1976      2\n",
      "    ---                  \n",
      "245582:       1995      2\n",
      "245583:       1982      2\n",
      "245584:       1986      2\n",
      "245585:       1982      2\n",
      "245586:       1982      2\n"
     ]
    }
   ],
   "source": [
    "cat(\"question 1.1 :\\n\")\n",
    "print(df[1,4])\n",
    "\n",
    "cat(\"question 1.2 :\\n\")\n",
    "print(df[1:5,5])\n",
    "\n",
    "cat(\"question 1.3 :\\n\")\n",
    "print(df[,10:11])\n",
    "\n",
    "cat(\"question 1.4 :\\n\")\n",
    "print(df[gender==2,14:15])"
   ]
  },
  {
   "cell_type": "code",
   "execution_count": 3,
   "id": "1e901f86",
   "metadata": {
    "vscode": {
     "languageId": "r"
    }
   },
   "outputs": [
    {
     "name": "stdout",
     "output_type": "stream",
     "text": [
      "question 1.5 :\n",
      "[1] 1000000\n",
      "question 1.6 :\n",
      "[1] 1939.1\n",
      "question 1.7 :\n",
      "   gender        V1\n",
      "    <int>     <num>\n",
      "1:      1  853.1404\n",
      "2:      0 2005.6706\n",
      "3:      2 1016.5074\n"
     ]
    }
   ],
   "source": [
    "cat(\"question 1.5 :\\n\")\n",
    "print(df[,.N])\n",
    "\n",
    "cat(\"question 1.6 :\\n\")\n",
    "print(df[1:10, mean(tripduration)])\n",
    "\n",
    "cat(\"question 1.7 :\\n\")\n",
    "print(df[,mean(tripduration),by=gender])"
   ]
  },
  {
   "cell_type": "code",
   "execution_count": 4,
   "id": "a41bff81",
   "metadata": {
    "vscode": {
     "languageId": "r"
    }
   },
   "outputs": [
    {
     "name": "stdout",
     "output_type": "stream",
     "text": [
      "question 1.8 :\n",
      "   gender mean_duration_by_gender\n",
      "    <int>                   <num>\n",
      "1:      1                853.1404\n",
      "2:      0               2005.6706\n",
      "3:      2               1016.5074\n",
      "question 1.9 :\n",
      "   gender mean_duration number_of_trips\n",
      "    <int>         <num>           <int>\n",
      "1:      1      853.1404          651245\n",
      "2:      0     2005.6706          103169\n",
      "3:      2     1016.5074          245586\n"
     ]
    }
   ],
   "source": [
    "cat(\"question 1.8 :\\n\")\n",
    "print(df[,.(mean_duration_by_gender=mean(tripduration)),by=gender])\n",
    "\n",
    "cat(\"question 1.9 :\\n\")\n",
    "print(df[,.(mean_duration=mean(tripduration),number_of_trips=.N),by=gender])\n"
   ]
  },
  {
   "cell_type": "code",
   "execution_count": 18,
   "id": "a3f83733",
   "metadata": {
    "vscode": {
     "languageId": "r"
    }
   },
   "outputs": [
    {
     "data": {
      "text/html": [
       "<table class=\"dataframe\">\n",
       "<caption>A etable_df: 9 × 2</caption>\n",
       "<thead>\n",
       "\t<tr><th></th><th scope=col></th><th scope=col>model</th></tr>\n",
       "\t<tr><th></th><th scope=col>&lt;chr&gt;</th><th scope=col>&lt;chr&gt;</th></tr>\n",
       "</thead>\n",
       "<tbody>\n",
       "\t<tr><th scope=row>1</th><td>Dependent Var.:</td><td>no_of_trips             </td></tr>\n",
       "\t<tr><th scope=row>2</th><td>               </td><td>                        </td></tr>\n",
       "\t<tr><th scope=row>3</th><td>Constant       </td><td>-530,648.0*** (77,798.0)</td></tr>\n",
       "\t<tr><th scope=row>4</th><td>`birthyear`    </td><td>277.2*** (39.89)        </td></tr>\n",
       "\t<tr><th scope=row>5</th><td>_______________</td><td>________________________</td></tr>\n",
       "\t<tr><th scope=row>6</th><td>S.E. type      </td><td>IID                     </td></tr>\n",
       "\t<tr><th scope=row>7</th><td>Observations   </td><td>100                     </td></tr>\n",
       "\t<tr><th scope=row>8</th><td>R2             </td><td>0.33018                 </td></tr>\n",
       "\t<tr><th scope=row>9</th><td>Adj. R2        </td><td>0.32334                 </td></tr>\n",
       "</tbody>\n",
       "</table>\n"
      ],
      "text/latex": [
       "A etable\\_df: 9 × 2\n",
       "\\begin{tabular}{r|ll}\n",
       "  &  & model\\\\\n",
       "  & <chr> & <chr>\\\\\n",
       "\\hline\n",
       "\t1 & Dependent Var.: & no\\_of\\_trips             \\\\\n",
       "\t2 &                 &                         \\\\\n",
       "\t3 & Constant        & -530,648.0*** (77,798.0)\\\\\n",
       "\t4 & `birthyear`     & 277.2*** (39.89)        \\\\\n",
       "\t5 & \\_\\_\\_\\_\\_\\_\\_\\_\\_\\_\\_\\_\\_\\_\\_ & \\_\\_\\_\\_\\_\\_\\_\\_\\_\\_\\_\\_\\_\\_\\_\\_\\_\\_\\_\\_\\_\\_\\_\\_\\\\\n",
       "\t6 & S.E. type       & IID                     \\\\\n",
       "\t7 & Observations    & 100                     \\\\\n",
       "\t8 & R2              & 0.33018                 \\\\\n",
       "\t9 & Adj. R2         & 0.32334                 \\\\\n",
       "\\end{tabular}\n"
      ],
      "text/markdown": [
       "\n",
       "A etable_df: 9 × 2\n",
       "\n",
       "| <!--/--> | <!----> &lt;chr&gt; | model &lt;chr&gt; |\n",
       "|---|---|---|\n",
       "| 1 | Dependent Var.: | no_of_trips              |\n",
       "| 2 | <!----> | <!----> |\n",
       "| 3 | Constant        | -530,648.0*** (77,798.0) |\n",
       "| 4 | `birthyear`     | 277.2*** (39.89)         |\n",
       "| 5 | _______________ | ________________________ |\n",
       "| 6 | S.E. type       | IID                      |\n",
       "| 7 | Observations    | 100                      |\n",
       "| 8 | R2              | 0.33018                  |\n",
       "| 9 | Adj. R2         | 0.32334                  |\n",
       "\n"
      ],
      "text/plain": [
       "                  model                   \n",
       "1 Dependent Var.: no_of_trips             \n",
       "2                                         \n",
       "3 Constant        -530,648.0*** (77,798.0)\n",
       "4 `birthyear`     277.2*** (39.89)        \n",
       "5 _______________ ________________________\n",
       "6 S.E. type       IID                     \n",
       "7 Observations    100                     \n",
       "8 R2              0.33018                 \n",
       "9 Adj. R2         0.32334                 "
      ]
     },
     "metadata": {},
     "output_type": "display_data"
    }
   ],
   "source": [
    "library(fixest)\n",
    "\n",
    "df_short = df[,.(no_of_trips=.N),by= .(`birth year`)]\n",
    "\n",
    "model = feols(no_of_trips ~ `birth year`, data = df_short)\n",
    "\n",
    "etable(model)\n"
   ]
  },
  {
   "cell_type": "code",
   "execution_count": null,
   "id": "919ab5a8",
   "metadata": {
    "vscode": {
     "languageId": "r"
    }
   },
   "outputs": [],
   "source": [
    "\n",
    "covariance <- cov(df_short$`birth year`, df_short$no_of_trips)\n",
    "\n",
    "# Calculate variance of birth year\n",
    "variance_birth_year <- var(df_short$`birth year`)\n",
    "\n",
    "# Calculate slope\n",
    "manual_slope <- covariance / variance_birth_year\n",
    "\n",
    "cat(\"Manual calculation of slope:\\n\")\n",
    "cat(\"Covariance(birth year, no_of_trips):\", covariance, \"\\n\")\n",
    "cat(\"Variance(birth year):\", variance_birth_year, \"\\n\")\n",
    "cat(\"Slope (cov/var):\", manual_slope, \"\\n\")\n",
    "\n",
    "# Compare with the regression coefficient from the model\n",
    "cat(\"\\nComparison with regression model:\\n\")\n",
    "cat(\"Model coefficient for birth year:\", coef(model)[2], \"\\n\")\n",
    "cat(\"Difference:\", abs(manual_slope - coef(model)[2]), \"\\n\")\n"
   ]
  }
 ],
 "metadata": {
  "kernelspec": {
   "display_name": "R",
   "language": "R",
   "name": "ir"
  },
  "language_info": {
   "codemirror_mode": "r",
   "file_extension": ".r",
   "mimetype": "text/x-r-source",
   "name": "R",
   "pygments_lexer": "r",
   "version": "4.5.1"
  }
 },
 "nbformat": 4,
 "nbformat_minor": 5
}
