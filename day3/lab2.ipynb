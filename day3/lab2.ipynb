{
 "cells": [
  {
   "cell_type": "code",
   "execution_count": 1,
   "id": "a4c3c40e",
   "metadata": {
    "vscode": {
     "languageId": "r"
    }
   },
   "outputs": [],
   "source": [
    "# Load the data.table library\n",
    "library(data.table)\n",
    "\n",
    "# Read the CitiBike trip data for September 2018\n",
    "df <- fread(\"2018-citibike-tripdata/9_September/201809-citibike-tripdata_1.csv\")\n",
    "\n",
    "df=data.table(df)"
   ]
  },
  {
   "cell_type": "code",
   "execution_count": 2,
   "id": "2ed6aca0",
   "metadata": {
    "vscode": {
     "languageId": "r"
    }
   },
   "outputs": [
    {
     "name": "stdout",
     "output_type": "stream",
     "text": [
      "question 1 :\n",
      "   start station id\n",
      "              <num>\n",
      "1:              252\n",
      "question 2 :\n",
      "                start station name\n",
      "                            <char>\n",
      "1:    MacDougal St & Washington Sq\n",
      "2: Cadman Plaza West & Montague St\n",
      "3:                 1 Ave & E 62 St\n",
      "4:         St James Pl & Oliver St\n",
      "5:                 W 13 St & 6 Ave\n",
      "question 3 :\n",
      "         end station latitude end station longitude\n",
      "                        <num>                 <num>\n",
      "      1:             40.69326             -73.96890\n",
      "      2:             40.69103             -73.99183\n",
      "      3:             40.67872             -73.99599\n",
      "      4:             40.71334             -74.00936\n",
      "      5:             40.73401             -74.00294\n",
      "     ---                                           \n",
      " 999996:             40.76818             -73.95910\n",
      " 999997:             40.74239             -73.99726\n",
      " 999998:             40.74475             -73.99915\n",
      " 999999:             40.74312             -73.98215\n",
      "1000000:             40.72020             -73.98998\n",
      "question 4 :\n",
      "        birth year gender\n",
      "             <int>  <int>\n",
      "     1:       1984      2\n",
      "     2:       1977      2\n",
      "     3:       1974      2\n",
      "     4:       1985      2\n",
      "     5:       1976      2\n",
      "    ---                  \n",
      "245582:       1995      2\n",
      "245583:       1982      2\n",
      "245584:       1986      2\n",
      "245585:       1982      2\n",
      "245586:       1982      2\n"
     ]
    }
   ],
   "source": [
    "cat(\"question 1 :\\n\")\n",
    "print(df[1,4])\n",
    "\n",
    "cat(\"question 2 :\\n\")\n",
    "print(df[1:5,5])\n",
    "\n",
    "cat(\"question 3 :\\n\")\n",
    "print(df[,10:11])\n",
    "\n",
    "cat(\"question 4 :\\n\")\n",
    "print(df[gender==2,14:15])"
   ]
  },
  {
   "cell_type": "code",
   "execution_count": null,
   "id": "1e901f86",
   "metadata": {
    "vscode": {
     "languageId": "r"
    }
   },
   "outputs": [],
   "source": [
    "cat(\"question 1.5 :\\n\")\n",
    "print(df[,.N])\n",
    "\n",
    "cat(\"question 1.6 :\\n\")\n",
    "print(df[1:10, mean(tripduration)])\n",
    "\n",
    "cat(\"question 1.7 :\\n\")\n",
    "print(df[,mean(tripduration),by=gender])"
   ]
  }
 ],
 "metadata": {
  "kernelspec": {
   "display_name": "R",
   "language": "R",
   "name": "ir"
  },
  "language_info": {
   "codemirror_mode": "r",
   "file_extension": ".r",
   "mimetype": "text/x-r-source",
   "name": "R",
   "pygments_lexer": "r",
   "version": "4.5.1"
  }
 },
 "nbformat": 4,
 "nbformat_minor": 5
}
